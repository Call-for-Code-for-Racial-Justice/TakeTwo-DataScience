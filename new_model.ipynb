{
 "cells": [
  {
   "cell_type": "code",
   "execution_count": 1,
   "metadata": {},
   "outputs": [],
   "source": [
    "from sklearn.feature_extraction.text import CountVectorizer\n",
    "from sklearn.linear_model import SGDClassifier\n",
    "from sklearn.feature_extraction.text import TfidfTransformer\n",
    "from sklearn.model_selection import GridSearchCV\n",
    "\n",
    "import numpy as np\n",
    "import pandas as pd\n",
    "\n"
   ]
  },
  {
   "cell_type": "code",
   "execution_count": 2,
   "metadata": {},
   "outputs": [],
   "source": [
    "jigsawTrain = pd.read_csv('../jigsaw-unintended-bias-in-toxicity-classification/train.csv')"
   ]
  },
  {
   "cell_type": "code",
   "execution_count": 83,
   "metadata": {},
   "outputs": [],
   "source": [
    "columns_categories = ['asian', 'atheist', 'bisexual',\n",
    "       'black', 'buddhist', 'christian', 'female', 'heterosexual', 'hindu',\n",
    "       'homosexual_gay_or_lesbian', 'intellectual_or_learning_disability',\n",
    "       'jewish', 'latino', 'male', 'muslim', 'other_disability',\n",
    "       'other_gender', 'other_race_or_ethnicity', 'other_religion',\n",
    "       'other_sexual_orientation', 'physical_disability',\n",
    "       'psychiatric_or_mental_illness', 'transgender', 'white']"
   ]
  },
  {
   "cell_type": "code",
   "execution_count": 3,
   "metadata": {},
   "outputs": [],
   "source": [
    "##jigsawTrain[['id','comment_text' ]+columns_categories].dropna()\n"
   ]
  },
  {
   "cell_type": "code",
   "execution_count": null,
   "metadata": {},
   "outputs": [],
   "source": []
  },
  {
   "cell_type": "code",
   "execution_count": 4,
   "metadata": {},
   "outputs": [],
   "source": [
    "allTrain = pd.DataFrame(jigsawTrain, columns = ['id', 'comment_text', 'severe_toxicity'])"
   ]
  },
  {
   "cell_type": "code",
   "execution_count": 6,
   "metadata": {},
   "outputs": [],
   "source": [
    "# from collections import namedtuple\n",
    "# all_data_set = namedtuple('data_set', [\"data\", \"urls\", \"target_names\", \"target\"])([],[],categories,[])"
   ]
  },
  {
   "cell_type": "code",
   "execution_count": 5,
   "metadata": {},
   "outputs": [
    {
     "data": {
      "text/plain": [
       "False    1700238\n",
       "True      104636\n",
       "Name: severe_toxicity, dtype: int64"
      ]
     },
     "execution_count": 5,
     "metadata": {},
     "output_type": "execute_result"
    }
   ],
   "source": [
    "(allTrain['severe_toxicity'] >0.0).value_counts()"
   ]
  },
  {
   "cell_type": "code",
   "execution_count": 2,
   "metadata": {},
   "outputs": [
    {
     "data": {
      "text/plain": [
       "1.804874"
      ]
     },
     "execution_count": 2,
     "metadata": {},
     "output_type": "execute_result"
    }
   ],
   "source": [
    "(1700238+104636)/1000000"
   ]
  },
  {
   "cell_type": "code",
   "execution_count": 8,
   "metadata": {},
   "outputs": [
    {
     "data": {
      "text/plain": [
       "0.06154197235916384"
      ]
     },
     "execution_count": 8,
     "metadata": {},
     "output_type": "execute_result"
    }
   ],
   "source": [
    "104636/1700238 # that's why downsampling 6%"
   ]
  },
  {
   "cell_type": "code",
   "execution_count": 6,
   "metadata": {},
   "outputs": [],
   "source": [
    "import random"
   ]
  },
  {
   "cell_type": "code",
   "execution_count": 7,
   "metadata": {},
   "outputs": [],
   "source": [
    "false_idx_list = list((allTrain['severe_toxicity']==0).index.values)\n",
    "random.seed(44)\n",
    "false_target = random.sample(false_idx_list, 104636)"
   ]
  },
  {
   "cell_type": "code",
   "execution_count": 8,
   "metadata": {},
   "outputs": [],
   "source": [
    "df_train= allTrain[allTrain['severe_toxicity'] >0]\n",
    "df_train = df_train.append(allTrain.loc[false_target])"
   ]
  },
  {
   "cell_type": "code",
   "execution_count": 9,
   "metadata": {},
   "outputs": [
    {
     "data": {
      "text/html": [
       "<div>\n",
       "<style scoped>\n",
       "    .dataframe tbody tr th:only-of-type {\n",
       "        vertical-align: middle;\n",
       "    }\n",
       "\n",
       "    .dataframe tbody tr th {\n",
       "        vertical-align: top;\n",
       "    }\n",
       "\n",
       "    .dataframe thead th {\n",
       "        text-align: right;\n",
       "    }\n",
       "</style>\n",
       "<table border=\"1\" class=\"dataframe\">\n",
       "  <thead>\n",
       "    <tr style=\"text-align: right;\">\n",
       "      <th></th>\n",
       "      <th>id</th>\n",
       "      <th>comment_text</th>\n",
       "      <th>severe_toxicity</th>\n",
       "    </tr>\n",
       "  </thead>\n",
       "  <tbody>\n",
       "    <tr>\n",
       "      <th>4</th>\n",
       "      <td>59856</td>\n",
       "      <td>haha you guys are a bunch of losers.</td>\n",
       "      <td>0.021277</td>\n",
       "    </tr>\n",
       "    <tr>\n",
       "      <th>5</th>\n",
       "      <td>59859</td>\n",
       "      <td>ur a sh*tty comment.</td>\n",
       "      <td>0.047619</td>\n",
       "    </tr>\n",
       "    <tr>\n",
       "      <th>6</th>\n",
       "      <td>59861</td>\n",
       "      <td>hahahahahahahahhha suck it.</td>\n",
       "      <td>0.050847</td>\n",
       "    </tr>\n",
       "    <tr>\n",
       "      <th>31</th>\n",
       "      <td>239607</td>\n",
       "      <td>Yet call out all Muslims for the acts of a few...</td>\n",
       "      <td>0.050000</td>\n",
       "    </tr>\n",
       "    <tr>\n",
       "      <th>34</th>\n",
       "      <td>239612</td>\n",
       "      <td>This bitch is nuts. Who would read a book by a...</td>\n",
       "      <td>0.107692</td>\n",
       "    </tr>\n",
       "  </tbody>\n",
       "</table>\n",
       "</div>"
      ],
      "text/plain": [
       "        id                                       comment_text  severe_toxicity\n",
       "4    59856               haha you guys are a bunch of losers.         0.021277\n",
       "5    59859                               ur a sh*tty comment.         0.047619\n",
       "6    59861                        hahahahahahahahhha suck it.         0.050847\n",
       "31  239607  Yet call out all Muslims for the acts of a few...         0.050000\n",
       "34  239612  This bitch is nuts. Who would read a book by a...         0.107692"
      ]
     },
     "execution_count": 9,
     "metadata": {},
     "output_type": "execute_result"
    }
   ],
   "source": [
    "df_train.head()"
   ]
  },
  {
   "cell_type": "code",
   "execution_count": 10,
   "metadata": {},
   "outputs": [],
   "source": [
    "from sklearn.model_selection import train_test_split\n",
    "X_train, X_test = train_test_split(df_train, test_size = 0.1, random_state=44)"
   ]
  },
  {
   "cell_type": "code",
   "execution_count": 11,
   "metadata": {},
   "outputs": [
    {
     "data": {
      "text/plain": [
       "1109950    0.100000\n",
       "1533448    0.083333\n",
       "1098716    0.000000\n",
       "1252240    0.100000\n",
       "1569873    0.000000\n",
       "             ...   \n",
       "497741     0.000000\n",
       "876319     0.136986\n",
       "1750681    0.000000\n",
       "753836     0.000000\n",
       "241371     0.037500\n",
       "Name: severe_toxicity, Length: 188344, dtype: float64"
      ]
     },
     "execution_count": 11,
     "metadata": {},
     "output_type": "execute_result"
    }
   ],
   "source": [
    "target_flag = X_train['severe_toxicity'] >0.0\n",
    "X_train.pop('id')\n",
    "X_train.pop('severe_toxicity')"
   ]
  },
  {
   "cell_type": "code",
   "execution_count": 89,
   "metadata": {},
   "outputs": [],
   "source": [
    "#X_train"
   ]
  },
  {
   "cell_type": "code",
   "execution_count": 12,
   "metadata": {},
   "outputs": [],
   "source": [
    "from sklearn.feature_extraction.text import TfidfVectorizer \n",
    "\n",
    "tfidf_vectorizer=TfidfVectorizer(smooth_idf=True, use_idf=False)\n",
    "tfidf_vectorizer_vectors=tfidf_vectorizer.fit_transform(X_train['comment_text'])\n"
   ]
  },
  {
   "cell_type": "code",
   "execution_count": 15,
   "metadata": {},
   "outputs": [
    {
     "data": {
      "text/plain": [
       "(188344, 99293)"
      ]
     },
     "execution_count": 15,
     "metadata": {},
     "output_type": "execute_result"
    }
   ],
   "source": [
    "tfidf_vectorizer_vectors.shape"
   ]
  },
  {
   "cell_type": "code",
   "execution_count": 16,
   "metadata": {},
   "outputs": [
    {
     "data": {
      "text/plain": [
       "99293"
      ]
     },
     "execution_count": 16,
     "metadata": {},
     "output_type": "execute_result"
    }
   ],
   "source": [
    "len(tfidf_vectorizer.vocabulary_)"
   ]
  },
  {
   "cell_type": "code",
   "execution_count": 17,
   "metadata": {},
   "outputs": [],
   "source": [
    "from sklearn.linear_model import SGDClassifier\n",
    "from sklearn.model_selection import GridSearchCV"
   ]
  },
  {
   "cell_type": "code",
   "execution_count": 18,
   "metadata": {},
   "outputs": [],
   "source": [
    "clf = SGDClassifier(loss='hinge', penalty='l2',\n",
    "                    fit_intercept=True, max_iter=1000)\n",
    "param_grid =  {'alpha': np.power(10, np.arange(-4, 2, dtype=float)),\n",
    "              'loss':['hinge', 'log', 'modified_huber'],\n",
    "              'penalty':['l2', 'l1', 'elasticnet'],\n",
    "              'average': [True, False]}"
   ]
  },
  {
   "cell_type": "code",
   "execution_count": 19,
   "metadata": {},
   "outputs": [],
   "source": [
    "from time import time"
   ]
  },
  {
   "cell_type": "code",
   "execution_count": 20,
   "metadata": {},
   "outputs": [
    {
     "name": "stdout",
     "output_type": "stream",
     "text": [
      "GridSearchCV took 271.36 seconds for 108 candidate parameter settings.\n"
     ]
    }
   ],
   "source": [
    "grid_search = GridSearchCV(clf, param_grid=param_grid)\n",
    "start = time()\n",
    "grid_search.fit(tfidf_vectorizer_vectors, target_flag.values)\n",
    "\n",
    "print(\"GridSearchCV took %.2f seconds for %d candidate parameter settings.\"\n",
    "      % (time() - start, len(grid_search.cv_results_['params'])))"
   ]
  },
  {
   "cell_type": "code",
   "execution_count": 21,
   "metadata": {},
   "outputs": [],
   "source": [
    "bestmodel = grid_search.best_estimator_"
   ]
  },
  {
   "cell_type": "code",
   "execution_count": 22,
   "metadata": {},
   "outputs": [
    {
     "name": "stdout",
     "output_type": "stream",
     "text": [
      "xoxo\n"
     ]
    }
   ],
   "source": [
    "target_test = X_test['severe_toxicity'] >0.0\n",
    "\n",
    "X_test.pop('id')\n",
    "X_test.pop('severe_toxicity')\n",
    "print(\"xoxo\")"
   ]
  },
  {
   "cell_type": "code",
   "execution_count": 23,
   "metadata": {},
   "outputs": [],
   "source": [
    "X_test_tfidf_vector = tfidf_vectorizer.transform(X_test['comment_text'])"
   ]
  },
  {
   "cell_type": "code",
   "execution_count": 24,
   "metadata": {},
   "outputs": [],
   "source": [
    "y_pred = bestmodel.predict(X_test_tfidf_vector)"
   ]
  },
  {
   "cell_type": "code",
   "execution_count": 25,
   "metadata": {},
   "outputs": [
    {
     "name": "stdout",
     "output_type": "stream",
     "text": [
      "accuracy  0.7953459480122325\n",
      "F1  0.7953218673898665\n",
      "Precison  0.7967191903995949\n",
      "Recall  0.7973147353382919\n"
     ]
    }
   ],
   "source": [
    "from sklearn.metrics import accuracy_score, f1_score, precision_score, recall_score, classification_report, confusion_matrix\n",
    "print(\"accuracy \",accuracy_score(target_test, y_pred))\n",
    "print(\"F1 \",f1_score(target_test, y_pred, average=\"macro\"))\n",
    "print(\"Precison \",precision_score(target_test, y_pred, average=\"macro\"))\n",
    "print(\"Recall \",recall_score(target_test, y_pred, average=\"macro\")) "
   ]
  },
  {
   "cell_type": "code",
   "execution_count": 26,
   "metadata": {},
   "outputs": [
    {
     "data": {
      "text/plain": [
       "{'alpha': 0.0001,\n",
       " 'average': False,\n",
       " 'class_weight': None,\n",
       " 'early_stopping': False,\n",
       " 'epsilon': 0.1,\n",
       " 'eta0': 0.0,\n",
       " 'fit_intercept': True,\n",
       " 'l1_ratio': 0.15,\n",
       " 'learning_rate': 'optimal',\n",
       " 'loss': 'modified_huber',\n",
       " 'max_iter': 1000,\n",
       " 'n_iter_no_change': 5,\n",
       " 'n_jobs': None,\n",
       " 'penalty': 'l2',\n",
       " 'power_t': 0.5,\n",
       " 'random_state': None,\n",
       " 'shuffle': True,\n",
       " 'tol': 0.001,\n",
       " 'validation_fraction': 0.1,\n",
       " 'verbose': 0,\n",
       " 'warm_start': False}"
      ]
     },
     "execution_count": 26,
     "metadata": {},
     "output_type": "execute_result"
    }
   ],
   "source": [
    "bestmodel.get_params()"
   ]
  },
  {
   "cell_type": "code",
   "execution_count": 143,
   "metadata": {},
   "outputs": [
    {
     "name": "stderr",
     "output_type": "stream",
     "text": [
      "/Users/preetika/opt/anaconda3/lib/python3.8/site-packages/sklearn/utils/validation.py:70: FutureWarning: Pass labels=[0, 1] as keyword args. From version 1.0 (renaming of 0.25) passing these as positional arguments will result in an error\n",
      "  warnings.warn(f\"Pass {args_msg} as keyword args. From version \"\n"
     ]
    },
    {
     "data": {
      "image/png": "[encoded data removed]",
      "text/plain": [
       "<Figure size 432x288 with 2 Axes>"
      ]
     },
     "metadata": {
      "needs_background": "light"
     },
     "output_type": "display_data"
    }
   ],
   "source": [
    "import matplotlib.pyplot as plt\n",
    "import seaborn as sns\n",
    "categories = [\"non-toxic\", \"toxic\"]\n",
    "labels = [0,1]\n",
    "cm = confusion_matrix(target_test, y_pred, labels)\n",
    "\n",
    "ax= plt.subplot()\n",
    "sns.heatmap(cm, annot=True, fmt='g', ax=ax);  #annot=True to annotate cells, ftm='g' to disable scientific notation\n",
    "\n",
    "# labels, title and ticks\n",
    "ax.set_xlabel('Predicted labels');ax.set_ylabel('True labels'); \n",
    "ax.set_title('Confusion Matrix for SGD classifier'); \n",
    "ax.xaxis.set_ticklabels(categories); ax.yaxis.set_ticklabels(categories);"
   ]
  },
  {
   "cell_type": "code",
   "execution_count": 175,
   "metadata": {
    "scrolled": false
   },
   "outputs": [],
   "source": [
    "# printing index where actual target was True, but model predicted false\n",
    "# for i in range(len(y_pred)):\n",
    "#     if (target_test.iloc[i]) & (~y_pred[i]):\n",
    "#         print(i)\n",
    "    "
   ]
  },
  {
   "cell_type": "code",
   "execution_count": 165,
   "metadata": {},
   "outputs": [
    {
     "data": {
      "text/plain": [
       "'Yes it was. \\n\\nFrom wiki:\\n\\n\"In late 2015, Yiannopoulos began a campus speaking tour called \"The Dangerous F*ggot Tour\", encompassing universities in the United States and Great Britain. A number of his scheduled speeches in Great Britain were cancelled. Although most of his American speeches were not cancelled, some were met with notable protest ranging from vocal disruptions to cancellation via the heckler\\'s veto. The journalist Audrey Goddard analysed his speech at the University of Pittsburgh. He concludes that Yiannopoulos spends the \"majority of the time voicing his opinions with little to no factual statements accompanying them.\"\\n\\nIt should be noted that Yiannopoulos is a self-hating gay person who pines for conversion therapy but will say anything for a buck.'"
      ]
     },
     "execution_count": 165,
     "metadata": {},
     "output_type": "execute_result"
    }
   ],
   "source": [
    "# got 25th index as wrong prediction. Let's see what was the text \n",
    "X_test['comment_text'].iloc[25]"
   ]
  },
  {
   "cell_type": "markdown",
   "metadata": {},
   "source": [
    "#### Naive bayes training"
   ]
  },
  {
   "cell_type": "code",
   "execution_count": 27,
   "metadata": {},
   "outputs": [],
   "source": [
    "from sklearn.naive_bayes import MultinomialNB"
   ]
  },
  {
   "cell_type": "code",
   "execution_count": 28,
   "metadata": {},
   "outputs": [
    {
     "data": {
      "text/plain": [
       "MultinomialNB()"
      ]
     },
     "execution_count": 28,
     "metadata": {},
     "output_type": "execute_result"
    }
   ],
   "source": [
    "nb = MultinomialNB()\n",
    "nb.fit(tfidf_vectorizer_vectors, target_flag.values)"
   ]
  },
  {
   "cell_type": "code",
   "execution_count": 29,
   "metadata": {},
   "outputs": [
    {
     "name": "stdout",
     "output_type": "stream",
     "text": [
      "accuracy  0.7446961009174312\n",
      "F1  0.7377121011406861\n",
      "Precison  0.7555724708386979\n",
      "Recall  0.7377954093491593\n"
     ]
    }
   ],
   "source": [
    "y_pred_nb = nb.predict(X_test_tfidf_vector)\n",
    "\n",
    "from sklearn.metrics import accuracy_score, f1_score, precision_score, recall_score, classification_report, confusion_matrix\n",
    "print(\"accuracy \",accuracy_score(target_test, y_pred_nb))\n",
    "print(\"F1 \",f1_score(target_test, y_pred_nb, average=\"macro\"))\n",
    "print(\"Precison \",precision_score(target_test, y_pred_nb, average=\"macro\"))\n",
    "print(\"Recall \",recall_score(target_test, y_pred_nb, average=\"macro\")) "
   ]
  },
  {
   "cell_type": "markdown",
   "metadata": {},
   "source": [
    "## cleaning the text; adding idf=True"
   ]
  },
  {
   "cell_type": "code",
   "execution_count": 14,
   "metadata": {},
   "outputs": [
    {
     "data": {
      "text/html": [
       "<div>\n",
       "<style scoped>\n",
       "    .dataframe tbody tr th:only-of-type {\n",
       "        vertical-align: middle;\n",
       "    }\n",
       "\n",
       "    .dataframe tbody tr th {\n",
       "        vertical-align: top;\n",
       "    }\n",
       "\n",
       "    .dataframe thead th {\n",
       "        text-align: right;\n",
       "    }\n",
       "</style>\n",
       "<table border=\"1\" class=\"dataframe\">\n",
       "  <thead>\n",
       "    <tr style=\"text-align: right;\">\n",
       "      <th></th>\n",
       "      <th>id</th>\n",
       "      <th>comment_text</th>\n",
       "      <th>severe_toxicity</th>\n",
       "      <th>comment_text_clean</th>\n",
       "    </tr>\n",
       "  </thead>\n",
       "  <tbody>\n",
       "    <tr>\n",
       "      <th>4</th>\n",
       "      <td>59856</td>\n",
       "      <td>haha you guys are a bunch of losers.</td>\n",
       "      <td>0.021277</td>\n",
       "      <td>[haha, guys, bunch, losers]</td>\n",
       "    </tr>\n",
       "    <tr>\n",
       "      <th>5</th>\n",
       "      <td>59859</td>\n",
       "      <td>ur a sh*tty comment.</td>\n",
       "      <td>0.047619</td>\n",
       "      <td>[ur, sh, tty, comment]</td>\n",
       "    </tr>\n",
       "    <tr>\n",
       "      <th>6</th>\n",
       "      <td>59861</td>\n",
       "      <td>hahahahahahahahhha suck it.</td>\n",
       "      <td>0.050847</td>\n",
       "      <td>[hahahahahahahahhha, suck]</td>\n",
       "    </tr>\n",
       "    <tr>\n",
       "      <th>31</th>\n",
       "      <td>239607</td>\n",
       "      <td>Yet call out all Muslims for the acts of a few...</td>\n",
       "      <td>0.050000</td>\n",
       "      <td>[yet, call, muslims, acts, get, pilloried, oka...</td>\n",
       "    </tr>\n",
       "    <tr>\n",
       "      <th>34</th>\n",
       "      <td>239612</td>\n",
       "      <td>This bitch is nuts. Who would read a book by a...</td>\n",
       "      <td>0.107692</td>\n",
       "      <td>[bitch, nuts, would, read, book, woman]</td>\n",
       "    </tr>\n",
       "  </tbody>\n",
       "</table>\n",
       "</div>"
      ],
      "text/plain": [
       "        id                                       comment_text  \\\n",
       "4    59856               haha you guys are a bunch of losers.   \n",
       "5    59859                               ur a sh*tty comment.   \n",
       "6    59861                        hahahahahahahahhha suck it.   \n",
       "31  239607  Yet call out all Muslims for the acts of a few...   \n",
       "34  239612  This bitch is nuts. Who would read a book by a...   \n",
       "\n",
       "    severe_toxicity                                 comment_text_clean  \n",
       "4          0.021277                        [haha, guys, bunch, losers]  \n",
       "5          0.047619                             [ur, sh, tty, comment]  \n",
       "6          0.050847                         [hahahahahahahahhha, suck]  \n",
       "31         0.050000  [yet, call, muslims, acts, get, pilloried, oka...  \n",
       "34         0.107692            [bitch, nuts, would, read, book, woman]  "
      ]
     },
     "execution_count": 14,
     "metadata": {},
     "output_type": "execute_result"
    }
   ],
   "source": [
    "df_train.head()"
   ]
  },
  {
   "cell_type": "code",
   "execution_count": 13,
   "metadata": {},
   "outputs": [],
   "source": [
    "import re\n",
    "from nltk.corpus import stopwords\n",
    "#removing punctuation\n",
    "df_train['comment_text_clean'] = df_train.comment_text.apply(lambda x:re.sub(r'[^a-zA-z\\s]', ' ', x.lower()))\n",
    "\n",
    "#remove white spaces\n",
    "df_train['comment_text_clean'] = df_train.comment_text_clean.apply(lambda x:re.sub(r'\\s+', ' ', x))\n",
    "stop = set(stopwords.words('english'))\n",
    "df_train['comment_text_clean'] = df_train.comment_text_clean.apply(lambda x: [word for word in x.split() if word not in stop])\n"
   ]
  },
  {
   "cell_type": "code",
   "execution_count": 33,
   "metadata": {},
   "outputs": [],
   "source": [
    "corpus = [\"the house had a tiny little mouse\", \n",
    "\"the cat saw the mouse\", \n",
    "\"the mouse ran away from the house\"]"
   ]
  },
  {
   "cell_type": "code",
   "execution_count": 34,
   "metadata": {},
   "outputs": [],
   "source": [
    "cv=CountVectorizer() \n",
    " \n",
    "# this steps generates word counts for the words in your docs \n",
    "word_count_vector=cv.fit_transform(corpus)"
   ]
  },
  {
   "cell_type": "code",
   "execution_count": 38,
   "metadata": {},
   "outputs": [
    {
     "name": "stdout",
     "output_type": "stream",
     "text": [
      "  (0, 9)\t1\n",
      "  (0, 4)\t1\n",
      "  (0, 3)\t1\n",
      "  (0, 10)\t1\n",
      "  (0, 5)\t1\n",
      "  (0, 6)\t1\n",
      "  (1, 9)\t2\n",
      "  (1, 6)\t1\n",
      "  (1, 1)\t1\n",
      "  (1, 8)\t1\n",
      "  (2, 9)\t2\n",
      "  (2, 4)\t1\n",
      "  (2, 6)\t1\n",
      "  (2, 7)\t1\n",
      "  (2, 0)\t1\n",
      "  (2, 2)\t1\n"
     ]
    }
   ],
   "source": [
    "print(word_count_vector)"
   ]
  },
  {
   "cell_type": "code",
   "execution_count": 39,
   "metadata": {},
   "outputs": [],
   "source": [
    "tv=TfidfVectorizer(smooth_idf=True, use_idf=False)\n",
    "tv_vectors=tv.fit_transform(corpus)"
   ]
  },
  {
   "cell_type": "code",
   "execution_count": 40,
   "metadata": {},
   "outputs": [
    {
     "data": {
      "text/plain": [
       "{'the': 9,\n",
       " 'house': 4,\n",
       " 'had': 3,\n",
       " 'tiny': 10,\n",
       " 'little': 5,\n",
       " 'mouse': 6,\n",
       " 'cat': 1,\n",
       " 'saw': 8,\n",
       " 'ran': 7,\n",
       " 'away': 0,\n",
       " 'from': 2}"
      ]
     },
     "execution_count": 40,
     "metadata": {},
     "output_type": "execute_result"
    }
   ],
   "source": [
    "tv.vocabulary_"
   ]
  },
  {
   "cell_type": "code",
   "execution_count": 42,
   "metadata": {},
   "outputs": [
    {
     "name": "stdout",
     "output_type": "stream",
     "text": [
      "  (0, 9)\t0.4082482904638631\n",
      "  (0, 4)\t0.4082482904638631\n",
      "  (0, 3)\t0.4082482904638631\n",
      "  (0, 10)\t0.4082482904638631\n",
      "  (0, 5)\t0.4082482904638631\n",
      "  (0, 6)\t0.4082482904638631\n",
      "  (1, 9)\t0.7559289460184544\n",
      "  (1, 6)\t0.3779644730092272\n",
      "  (1, 1)\t0.3779644730092272\n",
      "  (1, 8)\t0.3779644730092272\n",
      "  (2, 9)\t0.6666666666666666\n",
      "  (2, 4)\t0.3333333333333333\n",
      "  (2, 6)\t0.3333333333333333\n",
      "  (2, 7)\t0.3333333333333333\n",
      "  (2, 0)\t0.3333333333333333\n",
      "  (2, 2)\t0.3333333333333333\n"
     ]
    }
   ],
   "source": [
    "print(tv_vectors)"
   ]
  },
  {
   "cell_type": "code",
   "execution_count": 43,
   "metadata": {},
   "outputs": [],
   "source": [
    "tv2=TfidfVectorizer(smooth_idf=True, use_idf=True)\n",
    "tv_vectors2=tv2.fit_transform(corpus)"
   ]
  },
  {
   "cell_type": "code",
   "execution_count": 48,
   "metadata": {},
   "outputs": [],
   "source": [
    "tv3=TfidfVectorizer(smooth_idf=True, use_idf=False, norm=None)\n",
    "tv_vectors3=tv3.fit_transform(corpus)"
   ]
  },
  {
   "cell_type": "code",
   "execution_count": 44,
   "metadata": {},
   "outputs": [
    {
     "name": "stdout",
     "output_type": "stream",
     "text": [
      "  (0, 6)\t0.2856167584735664\n",
      "  (0, 5)\t0.4835912093301898\n",
      "  (0, 10)\t0.4835912093301898\n",
      "  (0, 3)\t0.4835912093301898\n",
      "  (0, 4)\t0.36778357947820167\n",
      "  (0, 9)\t0.2856167584735664\n",
      "  (1, 8)\t0.5168019428381698\n",
      "  (1, 1)\t0.5168019428381698\n",
      "  (1, 6)\t0.30523155268005514\n",
      "  (1, 9)\t0.6104631053601103\n",
      "  (2, 2)\t0.4334516694863821\n",
      "  (2, 0)\t0.4334516694863821\n",
      "  (2, 7)\t0.4334516694863821\n",
      "  (2, 6)\t0.25600353853646324\n",
      "  (2, 4)\t0.3296511670576223\n",
      "  (2, 9)\t0.5120070770729265\n"
     ]
    }
   ],
   "source": [
    "print(tv_vectors2)"
   ]
  },
  {
   "cell_type": "code",
   "execution_count": 49,
   "metadata": {},
   "outputs": [
    {
     "name": "stdout",
     "output_type": "stream",
     "text": [
      "  (0, 9)\t1.0\n",
      "  (0, 4)\t1.0\n",
      "  (0, 3)\t1.0\n",
      "  (0, 10)\t1.0\n",
      "  (0, 5)\t1.0\n",
      "  (0, 6)\t1.0\n",
      "  (1, 9)\t2.0\n",
      "  (1, 6)\t1.0\n",
      "  (1, 1)\t1.0\n",
      "  (1, 8)\t1.0\n",
      "  (2, 9)\t2.0\n",
      "  (2, 4)\t1.0\n",
      "  (2, 6)\t1.0\n",
      "  (2, 7)\t1.0\n",
      "  (2, 0)\t1.0\n",
      "  (2, 2)\t1.0\n"
     ]
    }
   ],
   "source": [
    "print(tv_vectors3)"
   ]
  },
  {
   "cell_type": "markdown",
   "metadata": {},
   "source": [
    "## Difference btw idf=False with cv is that : it normalized results of Count vectorizer to make norm 1 for a document; to make it equivalent to count vectorizer, use normalize=false in its constructor"
   ]
  },
  {
   "cell_type": "code",
   "execution_count": 50,
   "metadata": {},
   "outputs": [],
   "source": [
    "from sklearn.model_selection import train_test_split\n",
    "X_train, X_test = train_test_split(df_train, test_size = 0.1)"
   ]
  },
  {
   "cell_type": "code",
   "execution_count": 62,
   "metadata": {},
   "outputs": [
    {
     "name": "stderr",
     "output_type": "stream",
     "text": [
      "<ipython-input-62-4a75b99a9d31>:1: SettingWithCopyWarning: \n",
      "A value is trying to be set on a copy of a slice from a DataFrame.\n",
      "Try using .loc[row_indexer,col_indexer] = value instead\n",
      "\n",
      "See the caveats in the documentation: https://pandas.pydata.org/pandas-docs/stable/user_guide/indexing.html#returning-a-view-versus-a-copy\n",
      "  X_train['comment_text_clean'] = X_train['comment_text_clean'].map(lambda x: (' ').join(x) )\n"
     ]
    }
   ],
   "source": [
    "X_train['comment_text_clean'] = X_train['comment_text_clean'].map(lambda x: (' ').join(x) )"
   ]
  },
  {
   "cell_type": "code",
   "execution_count": 68,
   "metadata": {},
   "outputs": [
    {
     "name": "stderr",
     "output_type": "stream",
     "text": [
      "<ipython-input-68-4921e9cf8ac8>:1: SettingWithCopyWarning: \n",
      "A value is trying to be set on a copy of a slice from a DataFrame.\n",
      "Try using .loc[row_indexer,col_indexer] = value instead\n",
      "\n",
      "See the caveats in the documentation: https://pandas.pydata.org/pandas-docs/stable/user_guide/indexing.html#returning-a-view-versus-a-copy\n",
      "  X_test['comment_text_clean'] = X_test['comment_text_clean'].map(lambda x: (' ').join(x) )\n"
     ]
    }
   ],
   "source": [
    "X_test['comment_text_clean'] = X_test['comment_text_clean'].map(lambda x: (' ').join(x) )"
   ]
  },
  {
   "cell_type": "code",
   "execution_count": 75,
   "metadata": {},
   "outputs": [],
   "source": [
    "target_flag = X_train['severe_toxicity'] >0.0\n",
    "target_test = X_test['severe_toxicity'] >0.0"
   ]
  },
  {
   "cell_type": "code",
   "execution_count": 64,
   "metadata": {},
   "outputs": [],
   "source": [
    "tfidf=TfidfVectorizer(smooth_idf=True, use_idf=True) # smooth idf is to ensure that for test data, unseen words can be processed\n",
    "tfidf_idfTrue=tfidf.fit_transform(X_train['comment_text_clean'])"
   ]
  },
  {
   "cell_type": "code",
   "execution_count": 76,
   "metadata": {},
   "outputs": [
    {
     "name": "stdout",
     "output_type": "stream",
     "text": [
      "GridSearchCV took 200.04 seconds for 108 candidate parameter settings.\n",
      "accuracy  0.799789755351682\n",
      "F1  0.7997794696085989\n",
      "Precison  0.8017672259670298\n",
      "Recall  0.8022235913254346\n"
     ]
    }
   ],
   "source": [
    "clf = SGDClassifier(loss='hinge', penalty='l2',\n",
    "                    fit_intercept=True, max_iter=1000)\n",
    "param_grid =  {'alpha': np.power(10, np.arange(-4, 2, dtype=float)),\n",
    "              'loss':['hinge', 'log', 'modified_huber'],\n",
    "              'penalty':['l2', 'l1', 'elasticnet'],\n",
    "              'average': [True, False]}\n",
    "\n",
    "\n",
    "grid_search = GridSearchCV(clf, param_grid=param_grid)\n",
    "start = time()\n",
    "grid_search.fit(tfidf_idfTrue, target_flag.values)\n",
    "\n",
    "print(\"GridSearchCV took %.2f seconds for %d candidate parameter settings.\"\n",
    "      % (time() - start, len(grid_search.cv_results_['params'])))\n",
    "\n",
    "X_test_tfidf_vector = tfidf.transform(X_test['comment_text_clean'])\n",
    "bestmodel = grid_search.best_estimator_\n",
    "y_pred = bestmodel.predict(X_test_tfidf_vector)\n",
    "\n",
    "#from sklearn.metrics import accuracy_score, f1_score, precision_score, recall_score, classification_report, confusion_matrix\n",
    "print(\"accuracy \",accuracy_score(target_test, y_pred))\n",
    "print(\"F1 \",f1_score(target_test, y_pred, average=\"macro\"))\n",
    "print(\"Precison \",precision_score(target_test, y_pred, average=\"macro\"))\n",
    "print(\"Recall \",recall_score(target_test, y_pred, average=\"macro\")) \n"
   ]
  },
  {
   "cell_type": "code",
   "execution_count": 79,
   "metadata": {},
   "outputs": [
    {
     "name": "stderr",
     "output_type": "stream",
     "text": [
      "/Users/preetika/opt/anaconda3/lib/python3.8/site-packages/sklearn/utils/validation.py:70: FutureWarning: Pass labels=[0, 1] as keyword args. From version 1.0 (renaming of 0.25) passing these as positional arguments will result in an error\n",
      "  warnings.warn(f\"Pass {args_msg} as keyword args. From version \"\n"
     ]
    },
    {
     "data": {
      "image/png": "[encoded data removed]",
      "text/plain": [
       "<Figure size 432x288 with 2 Axes>"
      ]
     },
     "metadata": {
      "needs_background": "light"
     },
     "output_type": "display_data"
    }
   ],
   "source": [
    "import matplotlib.pyplot as plt\n",
    "import seaborn as sns\n",
    "categories = [\"non-toxic\", \"toxic\"]\n",
    "labels = [0,1]\n",
    "cm = confusion_matrix(target_test, y_pred, labels)\n",
    "\n",
    "ax= plt.subplot()\n",
    "sns.heatmap(cm, annot=True, fmt='g', ax=ax);  #annot=True to annotate cells, ftm='g' to disable scientific notation\n",
    "\n",
    "# labels, title and ticks\n",
    "ax.set_xlabel('Predicted labels');ax.set_ylabel('True labels'); \n",
    "ax.set_title('Confusion Matrix for SGD classifier'); \n",
    "ax.xaxis.set_ticklabels(categories); ax.yaxis.set_ticklabels(categories);"
   ]
  },
  {
   "cell_type": "code",
   "execution_count": 77,
   "metadata": {},
   "outputs": [
    {
     "data": {
      "text/plain": [
       "{'alpha': 0.0001,\n",
       " 'average': True,\n",
       " 'class_weight': None,\n",
       " 'early_stopping': False,\n",
       " 'epsilon': 0.1,\n",
       " 'eta0': 0.0,\n",
       " 'fit_intercept': True,\n",
       " 'l1_ratio': 0.15,\n",
       " 'learning_rate': 'optimal',\n",
       " 'loss': 'modified_huber',\n",
       " 'max_iter': 1000,\n",
       " 'n_iter_no_change': 5,\n",
       " 'n_jobs': None,\n",
       " 'penalty': 'l2',\n",
       " 'power_t': 0.5,\n",
       " 'random_state': None,\n",
       " 'shuffle': True,\n",
       " 'tol': 0.001,\n",
       " 'validation_fraction': 0.1,\n",
       " 'verbose': 0,\n",
       " 'warm_start': False}"
      ]
     },
     "execution_count": 77,
     "metadata": {},
     "output_type": "execute_result"
    }
   ],
   "source": [
    "bestmodel.get_params()"
   ]
  },
  {
   "cell_type": "code",
   "execution_count": 78,
   "metadata": {},
   "outputs": [
    {
     "name": "stdout",
     "output_type": "stream",
     "text": [
      "accuracy  0.7458428899082569\n",
      "F1  0.7412138451352779\n",
      "Precison  0.7504487013432024\n",
      "Recall  0.7404962570300955\n"
     ]
    }
   ],
   "source": [
    "nb = MultinomialNB()\n",
    "nb.fit(tfidf_idfTrue, target_flag.values)\n",
    "\n",
    "y_pred_nb = nb.predict(X_test_tfidf_vector)\n",
    "\n",
    "from sklearn.metrics import accuracy_score, f1_score, precision_score, recall_score, classification_report, confusion_matrix\n",
    "print(\"accuracy \",accuracy_score(target_test, y_pred_nb))\n",
    "print(\"F1 \",f1_score(target_test, y_pred_nb, average=\"macro\"))\n",
    "print(\"Precison \",precision_score(target_test, y_pred_nb, average=\"macro\"))\n",
    "print(\"Recall \",recall_score(target_test, y_pred_nb, average=\"macro\")) "
   ]
  },
  {
   "cell_type": "code",
   "execution_count": null,
   "metadata": {},
   "outputs": [],
   "source": []
  },
  {
   "cell_type": "markdown",
   "metadata": {},
   "source": [
    "### difference btw Hinge loss and huber loss"
   ]
  },
  {
   "cell_type": "code",
   "execution_count": 16,
   "metadata": {},
   "outputs": [],
   "source": [
    "X_train, X_test = train_test_split(df_train, test_size = 0.1, random_state=44)\n"
   ]
  },
  {
   "cell_type": "code",
   "execution_count": 17,
   "metadata": {},
   "outputs": [
    {
     "name": "stderr",
     "output_type": "stream",
     "text": [
      "<ipython-input-17-310b1a7ebea9>:1: SettingWithCopyWarning: \n",
      "A value is trying to be set on a copy of a slice from a DataFrame.\n",
      "Try using .loc[row_indexer,col_indexer] = value instead\n",
      "\n",
      "See the caveats in the documentation: https://pandas.pydata.org/pandas-docs/stable/user_guide/indexing.html#returning-a-view-versus-a-copy\n",
      "  X_train['comment_text_clean'] = X_train['comment_text_clean'].map(lambda x: (' ').join(x) )\n",
      "<ipython-input-17-310b1a7ebea9>:2: SettingWithCopyWarning: \n",
      "A value is trying to be set on a copy of a slice from a DataFrame.\n",
      "Try using .loc[row_indexer,col_indexer] = value instead\n",
      "\n",
      "See the caveats in the documentation: https://pandas.pydata.org/pandas-docs/stable/user_guide/indexing.html#returning-a-view-versus-a-copy\n",
      "  X_test['comment_text_clean'] = X_test['comment_text_clean'].map(lambda x: (' ').join(x) )\n"
     ]
    }
   ],
   "source": [
    "X_train['comment_text_clean'] = X_train['comment_text_clean'].map(lambda x: (' ').join(x) )\n",
    "X_test['comment_text_clean'] = X_test['comment_text_clean'].map(lambda x: (' ').join(x) )"
   ]
  },
  {
   "cell_type": "code",
   "execution_count": 18,
   "metadata": {},
   "outputs": [],
   "source": [
    "target_flag = X_train['severe_toxicity'] >0.0\n",
    "target_test = X_test['severe_toxicity'] >0.0"
   ]
  },
  {
   "cell_type": "code",
   "execution_count": 19,
   "metadata": {},
   "outputs": [],
   "source": [
    "tfidf=TfidfVectorizer(smooth_idf=True, use_idf=True) # smooth idf is to ensure that for test data, unseen words can be processed\n",
    "tfidf_idfTrue=tfidf.fit_transform(X_train['comment_text_clean'])"
   ]
  },
  {
   "cell_type": "code",
   "execution_count": 21,
   "metadata": {},
   "outputs": [
    {
     "name": "stdout",
     "output_type": "stream",
     "text": [
      "accuracy  0.7879873853211009\n",
      "F1  0.7877368453968405\n",
      "Precison  0.7947417555914659\n",
      "Recall  0.7914149762174425\n"
     ]
    }
   ],
   "source": [
    "clf = SGDClassifier(loss='hinge', penalty='l2',\n",
    "                    fit_intercept=True, max_iter=1000, alpha=0.0001, average=True)\n",
    "clf.fit(tfidf_idfTrue, target_flag.values)\n",
    "\n",
    "X_test_tfidf_vector = tfidf.transform(X_test['comment_text_clean'])\n",
    "#bestmodel = grid_search.best_estimator_\n",
    "y_pred_nb = clf.predict(X_test_tfidf_vector)\n",
    "\n",
    "from sklearn.metrics import accuracy_score, f1_score, precision_score, recall_score, classification_report, confusion_matrix\n",
    "print(\"accuracy \",accuracy_score(target_test, y_pred_nb))\n",
    "print(\"F1 \",f1_score(target_test, y_pred_nb, average=\"macro\"))\n",
    "print(\"Precison \",precision_score(target_test, y_pred_nb, average=\"macro\"))\n",
    "print(\"Recall \",recall_score(target_test, y_pred_nb, average=\"macro\")) "
   ]
  },
  {
   "cell_type": "code",
   "execution_count": 22,
   "metadata": {},
   "outputs": [
    {
     "name": "stdout",
     "output_type": "stream",
     "text": [
      "accuracy  0.8048069571865444\n",
      "F1  0.804806528901192\n",
      "Precison  0.8064793832075156\n",
      "Recall  0.8065633059353087\n"
     ]
    }
   ],
   "source": [
    "clf = SGDClassifier(loss='modified_huber', penalty='l2',\n",
    "                    fit_intercept=True, max_iter=1000, alpha=0.0001, average=True)\n",
    "clf.fit(tfidf_idfTrue, target_flag.values)\n",
    "\n",
    "X_test_tfidf_vector = tfidf.transform(X_test['comment_text_clean'])\n",
    "#bestmodel = grid_search.best_estimator_\n",
    "y_pred_nb = clf.predict(X_test_tfidf_vector)\n",
    "\n",
    "from sklearn.metrics import accuracy_score, f1_score, precision_score, recall_score, classification_report, confusion_matrix\n",
    "print(\"accuracy \",accuracy_score(target_test, y_pred_nb))\n",
    "print(\"F1 \",f1_score(target_test, y_pred_nb, average=\"macro\"))\n",
    "print(\"Precison \",precision_score(target_test, y_pred_nb, average=\"macro\"))\n",
    "print(\"Recall \",recall_score(target_test, y_pred_nb, average=\"macro\")) "
   ]
  },
  {
   "cell_type": "code",
   "execution_count": null,
   "metadata": {},
   "outputs": [],
   "source": []
  },
  {
   "cell_type": "code",
   "execution_count": null,
   "metadata": {},
   "outputs": [],
   "source": []
  }
 ],
 "metadata": {
  "kernelspec": {
   "display_name": "Python 3",
   "language": "python",
   "name": "python3"
  },
  "language_info": {
   "codemirror_mode": {
    "name": "ipython",
    "version": 3
   },
   "file_extension": ".py",
   "mimetype": "text/x-python",
   "name": "python",
   "nbconvert_exporter": "python",
   "pygments_lexer": "ipython3",
   "version": "3.8.3"
  }
 },
 "nbformat": 4,
 "nbformat_minor": 4
}
